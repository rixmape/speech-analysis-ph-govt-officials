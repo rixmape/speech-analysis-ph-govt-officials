{
 "cells": [
  {
   "cell_type": "markdown",
   "metadata": {},
   "source": [
    "# Is the SONA worth listening to?\n",
    "\n",
    "The State of the Nation Address (SONA) is an annual event in the Philippines where the President of the republic reveals the current status of the country, and his plans for the future. It is a highly anticipated event, and is usually broadcasted live on television and radio. The SONA, however, is also a very long event, and can last for several hours. This has led to some people questioning whether it is worth listening to. In this notebook, we will use data from the previous SONAs to determine if it is worth listening to the SONA.\n",
    "\n"
   ]
  },
  {
   "cell_type": "code",
   "execution_count": 1,
   "metadata": {},
   "outputs": [
    {
     "data": {
      "text/html": [
       "<div>\n",
       "<style scoped>\n",
       "    .dataframe tbody tr th:only-of-type {\n",
       "        vertical-align: middle;\n",
       "    }\n",
       "\n",
       "    .dataframe tbody tr th {\n",
       "        vertical-align: top;\n",
       "    }\n",
       "\n",
       "    .dataframe thead th {\n",
       "        text-align: right;\n",
       "    }\n",
       "</style>\n",
       "<table border=\"1\" class=\"dataframe\">\n",
       "  <thead>\n",
       "    <tr style=\"text-align: right;\">\n",
       "      <th></th>\n",
       "      <th>president</th>\n",
       "      <th>date</th>\n",
       "      <th>title</th>\n",
       "      <th>link</th>\n",
       "      <th>venue</th>\n",
       "      <th>session</th>\n",
       "      <th>speech</th>\n",
       "      <th>total_words</th>\n",
       "    </tr>\n",
       "  </thead>\n",
       "  <tbody>\n",
       "    <tr>\n",
       "      <th>0</th>\n",
       "      <td>Manuel L. Quezon</td>\n",
       "      <td>November 25, 1935</td>\n",
       "      <td>Message to the First Assembly on National Defense</td>\n",
       "      <td>http://www.officialgazette.gov.ph/1935/11/25/m...</td>\n",
       "      <td>Legislative Building, Manila</td>\n",
       "      <td>First National Assembly, First Session</td>\n",
       "      <td>Mr. Speaker, gentlemen of the National Assemb...</td>\n",
       "      <td>4341</td>\n",
       "    </tr>\n",
       "    <tr>\n",
       "      <th>1</th>\n",
       "      <td>Manuel L. Quezon</td>\n",
       "      <td>June 16, 1936</td>\n",
       "      <td>On the Country’s Conditions and Problems</td>\n",
       "      <td>http://www.officialgazette.gov.ph/1936/06/16/m...</td>\n",
       "      <td>Legislative Building, Manila</td>\n",
       "      <td>First National Assembly, First Session</td>\n",
       "      <td>Mr. Speaker, Gentlemen of the National Assemb...</td>\n",
       "      <td>7250</td>\n",
       "    </tr>\n",
       "    <tr>\n",
       "      <th>2</th>\n",
       "      <td>Manuel L. Quezon</td>\n",
       "      <td>October 18, 1937</td>\n",
       "      <td>Improvement of Philippine Conditions, Philippi...</td>\n",
       "      <td>http://www.officialgazette.gov.ph/1937/10/18/m...</td>\n",
       "      <td>Legislative Building, Manila</td>\n",
       "      <td>First National Assembly, Second Session</td>\n",
       "      <td>Mr. Speaker, Gentlemen of the National Assemb...</td>\n",
       "      <td>5774</td>\n",
       "    </tr>\n",
       "    <tr>\n",
       "      <th>3</th>\n",
       "      <td>Manuel L. Quezon</td>\n",
       "      <td>January 24, 1938</td>\n",
       "      <td>Revision of the System of Taxation</td>\n",
       "      <td>http://www.officialgazette.gov.ph/1938/01/24/m...</td>\n",
       "      <td>Legislative Building, Manila</td>\n",
       "      <td>First National Assembly, Third Session</td>\n",
       "      <td>Gentlemen of the National Assembly: The state...</td>\n",
       "      <td>3212</td>\n",
       "    </tr>\n",
       "    <tr>\n",
       "      <th>4</th>\n",
       "      <td>Manuel L. Quezon</td>\n",
       "      <td>January 24, 1939</td>\n",
       "      <td>The State of the Nation and Important Economic...</td>\n",
       "      <td>http://www.officialgazette.gov.ph/1939/01/24/m...</td>\n",
       "      <td>Legislative Building, Manila</td>\n",
       "      <td>Second National Assembly, First Session</td>\n",
       "      <td>Gentlemen of the National Assembly: I take pl...</td>\n",
       "      <td>4826</td>\n",
       "    </tr>\n",
       "  </tbody>\n",
       "</table>\n",
       "</div>"
      ],
      "text/plain": [
       "          president               date  \\\n",
       "0  Manuel L. Quezon  November 25, 1935   \n",
       "1  Manuel L. Quezon      June 16, 1936   \n",
       "2  Manuel L. Quezon   October 18, 1937   \n",
       "3  Manuel L. Quezon   January 24, 1938   \n",
       "4  Manuel L. Quezon   January 24, 1939   \n",
       "\n",
       "                                               title  \\\n",
       "0  Message to the First Assembly on National Defense   \n",
       "1           On the Country’s Conditions and Problems   \n",
       "2  Improvement of Philippine Conditions, Philippi...   \n",
       "3                 Revision of the System of Taxation   \n",
       "4  The State of the Nation and Important Economic...   \n",
       "\n",
       "                                                link  \\\n",
       "0  http://www.officialgazette.gov.ph/1935/11/25/m...   \n",
       "1  http://www.officialgazette.gov.ph/1936/06/16/m...   \n",
       "2  http://www.officialgazette.gov.ph/1937/10/18/m...   \n",
       "3  http://www.officialgazette.gov.ph/1938/01/24/m...   \n",
       "4  http://www.officialgazette.gov.ph/1939/01/24/m...   \n",
       "\n",
       "                          venue                                  session  \\\n",
       "0  Legislative Building, Manila   First National Assembly, First Session   \n",
       "1  Legislative Building, Manila   First National Assembly, First Session   \n",
       "2  Legislative Building, Manila  First National Assembly, Second Session   \n",
       "3  Legislative Building, Manila   First National Assembly, Third Session   \n",
       "4  Legislative Building, Manila  Second National Assembly, First Session   \n",
       "\n",
       "                                              speech  total_words  \n",
       "0   Mr. Speaker, gentlemen of the National Assemb...         4341  \n",
       "1   Mr. Speaker, Gentlemen of the National Assemb...         7250  \n",
       "2   Mr. Speaker, Gentlemen of the National Assemb...         5774  \n",
       "3   Gentlemen of the National Assembly: The state...         3212  \n",
       "4   Gentlemen of the National Assembly: I take pl...         4826  "
      ]
     },
     "execution_count": 1,
     "metadata": {},
     "output_type": "execute_result"
    }
   ],
   "source": [
    "import pandas as pd\n",
    "\n",
    "df = pd.read_csv(\"../data/sona-dataset.csv\")\n",
    "df.head()"
   ]
  },
  {
   "cell_type": "markdown",
   "metadata": {},
   "source": [
    "### Split each speech into sentences"
   ]
  },
  {
   "cell_type": "code",
   "execution_count": 2,
   "metadata": {},
   "outputs": [
    {
     "name": "stdout",
     "output_type": "stream",
     "text": [
      "INFO: Pandarallel will run on 8 workers.\n",
      "INFO: Pandarallel will use standard multiprocessing data transfer (pipe) to transfer data between the main process and workers.\n",
      "\n",
      "WARNING: You are on Windows. If you detect any issue with pandarallel, be sure you checked out the Troubleshooting page:\n",
      "https://nalepae.github.io/pandarallel/troubleshooting/\n"
     ]
    },
    {
     "data": {
      "application/vnd.jupyter.widget-view+json": {
       "model_id": "37d426b3dd2648ebaf4157402ecb470b",
       "version_major": 2,
       "version_minor": 0
      },
      "text/plain": [
       "VBox(children=(HBox(children=(IntProgress(value=0, description='0.00%', max=11), Label(value='0 / 11'))), HBox…"
      ]
     },
     "metadata": {},
     "output_type": "display_data"
    }
   ],
   "source": [
    "from functools import partial\n",
    "\n",
    "import spacy\n",
    "from pandarallel import pandarallel\n",
    "\n",
    "pandarallel.initialize(progress_bar=True)\n",
    "nlp = spacy.load(\"en_core_web_md\")\n",
    "\n",
    "def split_sentences(nlp, text):\n",
    "    return [sent.text for sent in nlp(text).sents]\n",
    "\n",
    "func = partial(split_sentences, nlp)\n",
    "df[\"sentences\"] = df[\"speech\"].parallel_apply(func)"
   ]
  },
  {
   "cell_type": "markdown",
   "metadata": {},
   "source": [
    "### Save the sentences"
   ]
  },
  {
   "cell_type": "code",
   "execution_count": null,
   "metadata": {},
   "outputs": [],
   "source": [
    "import os\n",
    "\n",
    "\n",
    "def filter_and_sort_sentences(sentences):\n",
    "    filtered_sentences = [\n",
    "        \" \".join(s.split()) for s in sentences if len(s.split()) > 10\n",
    "    ]\n",
    "    return sorted(\n",
    "        filtered_sentences,\n",
    "        key=lambda s: len(s),\n",
    "        reverse=True,\n",
    "    )\n",
    "\n",
    "\n",
    "def write_sentences_to_file(sentences, directory=\"../sentences\"):\n",
    "    if not os.path.exists(directory):\n",
    "        os.makedirs(directory)\n",
    "    file_path = os.path.join(directory, f\"{i:03}.txt\")\n",
    "    with open(file_path, \"w\", encoding=\"utf-8\") as f:\n",
    "        f.write(\"\\n\".join(sentences))\n",
    "\n",
    "\n",
    "for i, speech_sentences in enumerate(df[\"sentences\"]):\n",
    "    filtered_sentences = filter_and_sort_sentences(speech_sentences)\n",
    "    write_sentences_to_file(filtered_sentences)"
   ]
  },
  {
   "cell_type": "markdown",
   "metadata": {},
   "source": [
    "## Exploratory Data Analysis"
   ]
  },
  {
   "cell_type": "markdown",
   "metadata": {},
   "source": [
    "### Speech length distribution"
   ]
  },
  {
   "cell_type": "code",
   "execution_count": null,
   "metadata": {},
   "outputs": [],
   "source": [
    "import plotly.express as px\n",
    "\n",
    "fig = px.histogram(\n",
    "    df,\n",
    "    x=\"total_words\",\n",
    "    color=\"president\",\n",
    "    nbins=50,\n",
    "    title=\"Distribution of SONA Speech Lengths\",\n",
    ")\n",
    "fig.show()"
   ]
  },
  {
   "cell_type": "markdown",
   "metadata": {},
   "source": [
    "### Dominant topics over time"
   ]
  },
  {
   "cell_type": "code",
   "execution_count": null,
   "metadata": {},
   "outputs": [],
   "source": [
    "import base64\n",
    "\n",
    "import pandas as pd\n",
    "import matplotlib.pyplot as plt\n",
    "from sklearn.feature_extraction.text import CountVectorizer\n",
    "from wordcloud import WordCloud\n",
    "\n",
    "df[\"date\"] = pd.to_datetime(df[\"date\"])\n",
    "\n",
    "min_year = df[\"date\"].dt.year.min()\n",
    "max_year = df[\"date\"].dt.year.max()\n",
    "period_length = 10\n",
    "time_periods = [\n",
    "    (year, year + period_length)\n",
    "    for year in range(min_year, max_year, period_length)\n",
    "]\n",
    "\n",
    "num_periods = len(time_periods)\n",
    "cols = 3  # Adjust columns if you want a different layout\n",
    "rows = (num_periods // cols) + (num_periods % cols != 0)\n",
    "\n",
    "fig, axes = plt.subplots(\n",
    "    rows, cols, figsize=(15, 10)\n",
    ")  # Adjust figsize as needed\n",
    "\n",
    "for i, (start, end) in enumerate(time_periods):\n",
    "    # Filter speeches from this time period\n",
    "    mask = (df[\"date\"].dt.year >= start) & (df[\"date\"].dt.year < end)\n",
    "    speeches_period = df.loc[mask]\n",
    "\n",
    "    # Combine all speeches from this period into one text\n",
    "    text = \" \".join(speeches_period[\"speech\"])\n",
    "\n",
    "    # Generate word frequencies\n",
    "    vectorizer = CountVectorizer(stop_words=\"english\")\n",
    "    freqs = vectorizer.fit_transform([text])\n",
    "    word_freq = dict(\n",
    "        zip(\n",
    "            vectorizer.get_feature_names_out(),\n",
    "            freqs.sum(axis=0).A1,\n",
    "        )\n",
    "    )\n",
    "\n",
    "    # Generate word cloud\n",
    "    wordcloud = WordCloud(\n",
    "        width=800,\n",
    "        height=400,\n",
    "        max_words=100,\n",
    "        background_color=\"white\",\n",
    "    ).generate_from_frequencies(word_freq)\n",
    "\n",
    "    # Convert word cloud to image\n",
    "    img = wordcloud.to_image()\n",
    "    img_bytes = img.tobytes()\n",
    "    encoded = base64.b64encode(img_bytes).decode()\n",
    "\n",
    "    row, col = i // cols, i % cols\n",
    "    axes[row, col].imshow(img, interpolation=\"bilinear\")\n",
    "    axes[row, col].set_title(f\"{start}-{end}\")\n",
    "    axes[row, col].axis(\"off\")  # Remove axes ticks and labels\n",
    "\n",
    "fig.tight_layout()  # Adjust spacing between subplots\n",
    "plt.show()"
   ]
  },
  {
   "cell_type": "markdown",
   "metadata": {},
   "source": [
    "## Preprocessing"
   ]
  },
  {
   "cell_type": "markdown",
   "metadata": {},
   "source": [
    "### Subset the data to only include relevant columns"
   ]
  },
  {
   "cell_type": "code",
   "execution_count": null,
   "metadata": {},
   "outputs": [],
   "source": [
    "subset_df = df[[\"president\", \"date\", \"speech\"]]\n",
    "subset_df.head()"
   ]
  },
  {
   "cell_type": "markdown",
   "metadata": {},
   "source": [
    "### Normalize the speeches"
   ]
  },
  {
   "cell_type": "code",
   "execution_count": null,
   "metadata": {},
   "outputs": [],
   "source": [
    "pandarallel.initialize(progress_bar=True)\n",
    "nlp = spacy.load(\"en_core_web_sm\")\n",
    "\n",
    "\n",
    "def normalize_speech(nlp, text):\n",
    "    return \" \".join(\n",
    "        [\n",
    "            token.lemma_.lower()\n",
    "            for token in nlp(text)\n",
    "            if not token.is_stop and token.is_alpha\n",
    "        ]\n",
    "    )\n",
    "\n",
    "\n",
    "cleaned_df = subset_df.copy()\n",
    "cleaned_df[\"normalized_speech\"] = (\n",
    "    cleaned_df[\"speech\"].parallel_apply(partial(normalize_speech, nlp))\n",
    ")"
   ]
  },
  {
   "cell_type": "code",
   "execution_count": null,
   "metadata": {},
   "outputs": [],
   "source": [
    "cleaned_df.head()"
   ]
  }
 ],
 "metadata": {
  "kernelspec": {
   "display_name": "venv",
   "language": "python",
   "name": "python3"
  },
  "language_info": {
   "codemirror_mode": {
    "name": "ipython",
    "version": 3
   },
   "file_extension": ".py",
   "mimetype": "text/x-python",
   "name": "python",
   "nbconvert_exporter": "python",
   "pygments_lexer": "ipython3",
   "version": "3.12.2"
  }
 },
 "nbformat": 4,
 "nbformat_minor": 2
}
