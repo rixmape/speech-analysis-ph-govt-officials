{
 "cells": [
  {
   "cell_type": "markdown",
   "metadata": {},
   "source": [
    "# Discovering insights from VP Duterte speeches\n"
   ]
  },
  {
   "cell_type": "markdown",
   "metadata": {},
   "source": [
    "## Setup the environment\n"
   ]
  },
  {
   "cell_type": "code",
   "execution_count": 1,
   "metadata": {},
   "outputs": [
    {
     "name": "stderr",
     "output_type": "stream",
     "text": [
      "C:\\Users\\rmape\\AppData\\Local\\Temp\\ipykernel_5704\\3245152794.py:4: DeprecationWarning: \n",
      "Pyarrow will become a required dependency of pandas in the next major release of pandas (pandas 3.0),\n",
      "(to allow more performant data types, such as the Arrow string type, and better interoperability with other libraries)\n",
      "but was not found to be installed on your system.\n",
      "If this would cause problems for you,\n",
      "please provide us feedback at https://github.com/pandas-dev/pandas/issues/54466\n",
      "        \n",
      "  import pandas as pd\n"
     ]
    }
   ],
   "source": [
    "import datetime\n",
    "from collections import Counter\n",
    "\n",
    "import pandas as pd\n",
    "import spacy\n",
    "import calamancy"
   ]
  },
  {
   "cell_type": "code",
   "execution_count": 2,
   "metadata": {},
   "outputs": [
    {
     "name": "stderr",
     "output_type": "stream",
     "text": [
      "d:\\codes\\scrape-ovp-speeches\\venv\\Lib\\site-packages\\spacy\\util.py:918: UserWarning: [W094] Model 'tl_calamancy_md' (0.1.0) specifies an under-constrained spaCy version requirement: >=3.5.0. This can lead to compatibility problems with older versions, or as new spaCy versions are released, because the model may say it's compatible when it's not. Consider changing the \"spacy_version\" in your meta.json to a version range, with a lower and upper pin. For example: >=3.7.2,<3.8.0\n",
      "  warnings.warn(warn_msg)\n"
     ]
    }
   ],
   "source": [
    "en_nlp = spacy.load(\"en_core_web_md\")\n",
    "tl_nlp = calamancy.load(\"tl_calamancy_md-0.1.0\")"
   ]
  },
  {
   "cell_type": "markdown",
   "metadata": {},
   "source": [
    "## Dataset preparation"
   ]
  },
  {
   "cell_type": "code",
   "execution_count": 3,
   "metadata": {},
   "outputs": [
    {
     "data": {
      "text/html": [
       "<div>\n",
       "<style scoped>\n",
       "    .dataframe tbody tr th:only-of-type {\n",
       "        vertical-align: middle;\n",
       "    }\n",
       "\n",
       "    .dataframe tbody tr th {\n",
       "        vertical-align: top;\n",
       "    }\n",
       "\n",
       "    .dataframe thead th {\n",
       "        text-align: right;\n",
       "    }\n",
       "</style>\n",
       "<table border=\"1\" class=\"dataframe\">\n",
       "  <thead>\n",
       "    <tr style=\"text-align: right;\">\n",
       "      <th></th>\n",
       "      <th>title</th>\n",
       "      <th>link</th>\n",
       "      <th>date</th>\n",
       "      <th>content</th>\n",
       "    </tr>\n",
       "  </thead>\n",
       "  <tbody>\n",
       "    <tr>\n",
       "      <th>0</th>\n",
       "      <td>ISO Recertification of the Office of the Vice ...</td>\n",
       "      <td>https://www.ovp.gov.ph/post/iso-recertificatio...</td>\n",
       "      <td>2024-01-15</td>\n",
       "      <td>Office of the Vice President Mandaluyong City ...</td>\n",
       "    </tr>\n",
       "    <tr>\n",
       "      <th>1</th>\n",
       "      <td>VPSD Speech on Go Negosyo's 18th anniversary</td>\n",
       "      <td>https://www.ovp.gov.ph/post/vpsd-speech-go-neg...</td>\n",
       "      <td>2023-11-27</td>\n",
       "      <td>Assalamualaikum… Madayaw ug maayong gabii kani...</td>\n",
       "    </tr>\n",
       "    <tr>\n",
       "      <th>2</th>\n",
       "      <td>VPSD Speech for National Children's Month Culm...</td>\n",
       "      <td>https://www.ovp.gov.ph/post/vpsd-speech-nation...</td>\n",
       "      <td>2023-11-27</td>\n",
       "      <td>November 27, 2023, at 2:00 PM Ladies and gentl...</td>\n",
       "    </tr>\n",
       "    <tr>\n",
       "      <th>3</th>\n",
       "      <td>VPSD Speech for the Gift-Giving in Binalonan</td>\n",
       "      <td>https://www.ovp.gov.ph/post/vpsd-speech-gift-g...</td>\n",
       "      <td>2023-11-25</td>\n",
       "      <td>Gift-giving to 1,500 receipients Date of Event...</td>\n",
       "    </tr>\n",
       "    <tr>\n",
       "      <th>4</th>\n",
       "      <td>VP Sara speech for the Renaming of Agham Road ...</td>\n",
       "      <td>https://www.ovp.gov.ph/post/vp-sara-speech-for...</td>\n",
       "      <td>2023-11-17</td>\n",
       "      <td>Quezon City Mga Kababayan,Ladies and Gentlemen...</td>\n",
       "    </tr>\n",
       "  </tbody>\n",
       "</table>\n",
       "</div>"
      ],
      "text/plain": [
       "                                               title  \\\n",
       "0  ISO Recertification of the Office of the Vice ...   \n",
       "1       VPSD Speech on Go Negosyo's 18th anniversary   \n",
       "2  VPSD Speech for National Children's Month Culm...   \n",
       "3       VPSD Speech for the Gift-Giving in Binalonan   \n",
       "4  VP Sara speech for the Renaming of Agham Road ...   \n",
       "\n",
       "                                                link        date  \\\n",
       "0  https://www.ovp.gov.ph/post/iso-recertificatio...  2024-01-15   \n",
       "1  https://www.ovp.gov.ph/post/vpsd-speech-go-neg...  2023-11-27   \n",
       "2  https://www.ovp.gov.ph/post/vpsd-speech-nation...  2023-11-27   \n",
       "3  https://www.ovp.gov.ph/post/vpsd-speech-gift-g...  2023-11-25   \n",
       "4  https://www.ovp.gov.ph/post/vp-sara-speech-for...  2023-11-17   \n",
       "\n",
       "                                             content  \n",
       "0  Office of the Vice President Mandaluyong City ...  \n",
       "1  Assalamualaikum… Madayaw ug maayong gabii kani...  \n",
       "2  November 27, 2023, at 2:00 PM Ladies and gentl...  \n",
       "3  Gift-giving to 1,500 receipients Date of Event...  \n",
       "4  Quezon City Mga Kababayan,Ladies and Gentlemen...  "
      ]
     },
     "execution_count": 3,
     "metadata": {},
     "output_type": "execute_result"
    }
   ],
   "source": [
    "df = pd.read_csv(\"speeches.csv\")\n",
    "df.head()"
   ]
  },
  {
   "cell_type": "code",
   "execution_count": 4,
   "metadata": {},
   "outputs": [
    {
     "name": "stdout",
     "output_type": "stream",
     "text": [
      "<class 'pandas.core.frame.DataFrame'>\n",
      "RangeIndex: 54 entries, 0 to 53\n",
      "Data columns (total 4 columns):\n",
      " #   Column   Non-Null Count  Dtype \n",
      "---  ------   --------------  ----- \n",
      " 0   title    54 non-null     object\n",
      " 1   link     54 non-null     object\n",
      " 2   date     54 non-null     object\n",
      " 3   content  54 non-null     object\n",
      "dtypes: object(4)\n",
      "memory usage: 1.8+ KB\n"
     ]
    }
   ],
   "source": [
    "df.info()"
   ]
  },
  {
   "cell_type": "markdown",
   "metadata": {},
   "source": [
    "## Explorative Data Analysis"
   ]
  },
  {
   "cell_type": "code",
   "execution_count": 5,
   "metadata": {},
   "outputs": [],
   "source": [
    "# Tokenization using spaCy English model\n",
    "\n",
    "en_tokens = []\n",
    "\n",
    "for speech in df[\"content\"]:\n",
    "    doc = en_nlp(speech)\n",
    "    tokens = [\n",
    "        token.text\n",
    "        for token in doc\n",
    "        if not token.is_punct and not token.is_space and not token.is_stop\n",
    "    ]\n",
    "    en_tokens.extend(tokens)"
   ]
  },
  {
   "cell_type": "code",
   "execution_count": 6,
   "metadata": {},
   "outputs": [
    {
     "data": {
      "text/plain": [
       "[('sa', 777),\n",
       " ('na', 403),\n",
       " ('ang', 357),\n",
       " ('mga', 333),\n",
       " ('ng', 319),\n",
       " ('education', 217),\n",
       " ('po', 196),\n",
       " ('learners', 154),\n",
       " ('Education', 143),\n",
       " ('children', 127)]"
      ]
     },
     "execution_count": 6,
     "metadata": {},
     "output_type": "execute_result"
    }
   ],
   "source": [
    "Counter(en_tokens).most_common(10)"
   ]
  },
  {
   "cell_type": "code",
   "execution_count": 7,
   "metadata": {},
   "outputs": [],
   "source": [
    "# Tokenization using calamanCy Tagalog model\n",
    "\n",
    "tl_tokens = []\n",
    "\n",
    "for speech in df[\"content\"]:\n",
    "    doc = tl_nlp(speech)\n",
    "    tokens = [\n",
    "        token.text\n",
    "        for token in doc\n",
    "        if not token.is_punct and not token.is_space and not token.is_stop\n",
    "    ]\n",
    "    tl_tokens.extend(tokens)"
   ]
  },
  {
   "cell_type": "code",
   "execution_count": 8,
   "metadata": {},
   "outputs": [
    {
     "data": {
      "text/plain": [
       "[('the', 2467),\n",
       " ('and', 1962),\n",
       " ('of', 1678),\n",
       " ('to', 1510),\n",
       " ('in', 819),\n",
       " ('our', 739),\n",
       " ('a', 660),\n",
       " ('that', 601),\n",
       " ('for', 544),\n",
       " ('we', 461)]"
      ]
     },
     "execution_count": 8,
     "metadata": {},
     "output_type": "execute_result"
    }
   ],
   "source": [
    "Counter(tl_tokens).most_common(10)"
   ]
  },
  {
   "cell_type": "code",
   "execution_count": 9,
   "metadata": {},
   "outputs": [],
   "source": [
    "# FIXME: The speeches use both Filipino and English. When tokenizing using the\n",
    "# English model, it is not able to handle the Filipino words properly. For\n",
    "# instance, the English model cannot detect Filipino stopwords."
   ]
  }
 ],
 "metadata": {
  "kernelspec": {
   "display_name": "venv",
   "language": "python",
   "name": "python3"
  },
  "language_info": {
   "codemirror_mode": {
    "name": "ipython",
    "version": 3
   },
   "file_extension": ".py",
   "mimetype": "text/x-python",
   "name": "python",
   "nbconvert_exporter": "python",
   "pygments_lexer": "ipython3",
   "version": "3.12.1"
  }
 },
 "nbformat": 4,
 "nbformat_minor": 2
}
